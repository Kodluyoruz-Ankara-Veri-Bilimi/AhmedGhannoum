{
 "cells": [
  {
   "cell_type": "code",
   "execution_count": 38,
   "metadata": {},
   "outputs": [],
   "source": [
    "import seaborn as sns\n",
    "import pandas as pd\n",
    "import numpy as np \n",
    "import matplotlib.pyplot as plt \n",
    "import os \n",
    "from sklearn.preprocessing import OneHotEncoder\n",
    "class data_information:\n",
    "\n",
    "\n",
    "    def __init__(self,data):\n",
    "        print(\"data info : \")\n",
    "        self.data = data\n",
    "        \n",
    "    def dataHead(self, num):\n",
    "        print(self.data.head(num))\n",
    "    def dataDescribe(self): \n",
    "        print(self.data.describe())\n",
    "\n",
    "        \n",
    "class data_visualization:\n",
    "    def __init__(self, data):\n",
    "        print(\"Data Visualization :\")\n",
    "        self.data = data\n",
    "    def histogramGraphic(self): \n",
    "        \n",
    "    def boxDiagram(self):\n",
    "\n",
    "        \n",
    "class data_preprocessing(self): \n",
    "    def __init__(self,data): \n",
    "        print(\"Data Preprocessing and cleaning: \")\n",
    "        self.data = data \n",
    "    def nanValueFill(self):\n",
    "    \n",
    "    def handlingCategoricalData(self):\n",
    "        \n",
    "    def scalingAndNormalization(self):\n",
    "        \n",
    "        \n",
    "    \n",
    "    "
   ]
  }
 ],
 "metadata": {
  "kernelspec": {
   "display_name": "Python 3",
   "language": "python",
   "name": "python3"
  },
  "language_info": {
   "codemirror_mode": {
    "name": "ipython",
    "version": 3
   },
   "file_extension": ".py",
   "mimetype": "text/x-python",
   "name": "python",
   "nbconvert_exporter": "python",
   "pygments_lexer": "ipython3",
   "version": "3.7.3"
  }
 },
 "nbformat": 4,
 "nbformat_minor": 2
}
